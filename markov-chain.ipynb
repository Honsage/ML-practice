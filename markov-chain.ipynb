{
 "cells": [
  {
   "cell_type": "markdown",
   "metadata": {},
   "source": [
    "# Markov's Chains in NLP"
   ]
  },
  {
   "cell_type": "markdown",
   "metadata": {},
   "source": [
    "## Primitive prefix-based LM"
   ]
  },
  {
   "cell_type": "markdown",
   "metadata": {},
   "source": [
    "### Description\n",
    "\n",
    "\n",
    "Model is trained on the input natural language text. It has global parameter \"prefix length\" - kind of \"memory depth\" of model. \n",
    "\n",
    "For each prefix from the text the frequency of the following character is determined.\n",
    "\n",
    "In fact, it's an application of Markov chains with fixed order. "
   ]
  },
  {
   "cell_type": "code",
   "execution_count": 1,
   "metadata": {},
   "outputs": [],
   "source": [
    "from collections import OrderedDict\n",
    "import random\n",
    "\n",
    "\n",
    "def fit(train: str, pref_len: int) -> dict[str, dict[str, int]]:\n",
    "    model = dict()\n",
    "    for i in range(len(train) - pref_len):\n",
    "        prefix = train[i: i + pref_len]\n",
    "        next = train[i + pref_len]\n",
    "        model.setdefault(prefix, dict())\n",
    "        model[prefix].setdefault(next, 0)\n",
    "        model[prefix][next] += 1\n",
    "    return model\n",
    "\n",
    "\n",
    "def choose(options: dict[str, int]) -> str:\n",
    "    options = OrderedDict(options)\n",
    "    return random.choices(list(options.keys()), list(options.values()))[0]\n",
    "\n",
    "\n",
    "def predict(model: dict[str, dict[str, int]], pref_len: int, prefix: str, n: int):\n",
    "    for _ in range(n):\n",
    "        if options := model.get(prefix[-pref_len:]):\n",
    "            prefix += choose(options)\n",
    "    return prefix\n"
   ]
  },
  {
   "cell_type": "code",
   "execution_count": 2,
   "metadata": {},
   "outputs": [
    {
     "data": {
      "text/plain": [
       "'Мой дядя самых прочь, Не отходя ни шагу подушки подушки поправил, Когда же мой, какая самых прочь, Не отходя скука; Но, Вздыхать про себя!'"
      ]
     },
     "execution_count": 2,
     "metadata": {},
     "output_type": "execute_result"
    }
   ],
   "source": [
    "TRAIN = open('file.txt', encoding='utf-8').read().replace('\\n', ' ')\n",
    "PREF_LEN = 3\n",
    "\n",
    "model = fit(TRAIN, PREF_LEN)\n",
    "\n",
    "N = 200\n",
    "\n",
    "predict(model, PREF_LEN, TRAIN[:PREF_LEN + 2:], N)"
   ]
  }
 ],
 "metadata": {
  "kernelspec": {
   "display_name": "Python 3",
   "language": "python",
   "name": "python3"
  },
  "language_info": {
   "codemirror_mode": {
    "name": "ipython",
    "version": 3
   },
   "file_extension": ".py",
   "mimetype": "text/x-python",
   "name": "python",
   "nbconvert_exporter": "python",
   "pygments_lexer": "ipython3",
   "version": "3.12.6"
  }
 },
 "nbformat": 4,
 "nbformat_minor": 2
}
