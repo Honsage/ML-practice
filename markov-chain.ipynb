{
 "cells": [
  {
   "cell_type": "markdown",
   "metadata": {},
   "source": [
    "# Markov's Chains in NLP"
   ]
  },
  {
   "cell_type": "markdown",
   "metadata": {},
   "source": [
    "## Primitive prefix-based LM"
   ]
  },
  {
   "cell_type": "markdown",
   "metadata": {},
   "source": [
    "### Description\n",
    "\n",
    "\n",
    "Model is trained on the input natural language text. It has global parameter \"prefix length\" - kind of \"memory depth\" of model. \n",
    "\n",
    "For each prefix from the text the frequency of the following character is determined.\n",
    "\n",
    "In fact, it's application of Markov chains with fixed order. "
   ]
  }
 ],
 "metadata": {
  "language_info": {
   "name": "python"
  }
 },
 "nbformat": 4,
 "nbformat_minor": 2
}
